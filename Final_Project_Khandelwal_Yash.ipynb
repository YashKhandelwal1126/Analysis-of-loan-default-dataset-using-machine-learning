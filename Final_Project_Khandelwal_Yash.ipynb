{
  "nbformat": 4,
  "nbformat_minor": 0,
  "metadata": {
    "colab": {
      "name": "Final Project_Khandelwal_Yash.ipynb",
      "provenance": [],
      "collapsed_sections": [],
      "toc_visible": true
    },
    "kernelspec": {
      "name": "python3",
      "display_name": "Python 3"
    },
    "language_info": {
      "name": "python"
    }
  },
  "cells": [
    {
      "cell_type": "markdown",
      "metadata": {
        "id": "HLZ91mmvMQyl"
      },
      "source": [
        "## **Machine Learning Final Project DUE: Friday May 7th 11:59pm**\n",
        "\n",
        "**Note: Please read all the instructions carefully before starting the project.**\n",
        "\n",
        "For your final project you will build an ML model to analyze a dataset of your choice. You are welcome to keep working on the data in your EDA project if your data is large enough (at least 1000 rows for simple models and at least 10,000 for more complex models) or you can choose from the datasets/project suggestions below.\n",
        "\n",
        "In this project make sure that you:\n",
        "- Have a large enough dataset\n",
        "- Split your data in training and testing\n",
        "- Explore your data to inform which type of model to choose (no need if you are using your EDA dataset)\n",
        "- Try different models on your training dataset - then select the most promising model\n",
        "- Use cross validation to fine tune the model’s parameters such as alpha in lasso\n",
        "- Simplify your model using regularization, prunnning, drop-out, etc. to avoid overfitting\n",
        "- Communicate your model’s performance and make sure you compare it to a benchmark when appropriate\n",
        "- Plot interesting graphs and results\n",
        "- Write and publish your article to medium\n",
        "- Commit your code to your GitHub\n",
        "\n",
        "Please ensure you handle all the preprocessing before the modeling.\n",
        "\n",
        "Suggestions for project:\n",
        "You can take a look at the resources given below for choosing a dataset for your project. \n",
        "\n",
        "- Traffic sign detection - https://benchmark.ini.rub.de/gtsdb_dataset.html\n",
        "- Cat and dog classifier - https://www.kaggle.com/c/dogs-vs-cats/data\n",
        "- Other datasets from Kaggle - https://www.kaggle.com/data/41592"
      ]
    },
    {
      "cell_type": "markdown",
      "metadata": {
        "id": "mirWm3dBPv90"
      },
      "source": [
        "## **Grading Criteria**\n",
        "\n",
        "- Show clear exploration of the data to justify model choice\n",
        "- Train mutliple models and clearly articulate why you chose your final model\n",
        "- Show your performance on test dataset\n",
        "- Clear and concise write-up with clear well-documented figures\n",
        "- Commit your code to GitHub"
      ]
    },
    {
      "cell_type": "markdown",
      "metadata": {
        "id": "4ZRNqxFcP4wx"
      },
      "source": [
        "## **Submission Details**\n",
        "\n",
        "This is an individual assignment. You may not work in groups. The assignment is due on Friday (05/07/2021)\n",
        "- To submit your assignment, download your notebook and the dataset, zip the dataset and notebook, and submit the zipped file on blackboard.\n",
        "- Make sure the notebook is named in the format - Final_LastName_FirstName. If you are submitting a zipped file, please name the file as well in the same format.\n",
        "- Please include the link to access your blog and your github repo in your notebook.\n",
        "- Also include the link to your notebook, github repo and the blog in the submission on blackboard. Please ensure the TAs have the required access to your notebooks and the github repo.\n",
        "\n",
        "**Note - If the dataset is too large to be zipped and submitted on blackboard, only submit your notebook, add your dataset to your google drive and share a link to the file in your notebook.**"
      ]
    },
    {
      "cell_type": "markdown",
      "metadata": {
        "id": "-YAEoazSCbbT"
      },
      "source": [
        "Preprocessing/Analyzing the data"
      ]
    },
    {
      "cell_type": "code",
      "metadata": {
        "id": "ZzWRBLl6MImY",
        "colab": {
          "base_uri": "https://localhost:8080/",
          "height": 1000
        },
        "outputId": "e2e061d0-45cb-4ea1-abbb-4fbfb720ba01"
      },
      "source": [
        "# Start solution here\n",
        "import pandas as pd\n",
        "import numpy as np\n",
        "from sklearn.impute import SimpleImputer\n",
        "from sklearn.preprocessing import MinMaxScaler\n",
        "import seaborn as sns\n",
        "from sklearn.model_selection import train_test_split\n",
        "from sklearn.tree import DecisionTreeClassifier\n",
        "from sklearn import metrics\n",
        "import matplotlib.pyplot as plt\n",
        "from sklearn import tree\n",
        "\n",
        "# load the data\n",
        "data = pd.read_csv('Default_Fin.csv')\n",
        "display(data.head())\n",
        "\n",
        "# find out information about the index dtype, columns, non-nul values\n",
        "data.info()\n",
        "\n",
        "# find the number of columns and rows\n",
        "data.shape\n",
        "\n",
        "# Remove columns that are not going to be used\n",
        "data_updated = data.drop(['Index'], axis=1)\n",
        "print(data_updated)\n",
        "\n",
        "# Check for missing columns\n",
        "print(data_updated.isnull().sum())\n",
        "\n",
        "data_updated.shape\n",
        "\n",
        "data.describe()\n"
      ],
      "execution_count": 1,
      "outputs": [
        {
          "output_type": "display_data",
          "data": {
            "text/html": [
              "<div>\n",
              "<style scoped>\n",
              "    .dataframe tbody tr th:only-of-type {\n",
              "        vertical-align: middle;\n",
              "    }\n",
              "\n",
              "    .dataframe tbody tr th {\n",
              "        vertical-align: top;\n",
              "    }\n",
              "\n",
              "    .dataframe thead th {\n",
              "        text-align: right;\n",
              "    }\n",
              "</style>\n",
              "<table border=\"1\" class=\"dataframe\">\n",
              "  <thead>\n",
              "    <tr style=\"text-align: right;\">\n",
              "      <th></th>\n",
              "      <th>Index</th>\n",
              "      <th>Employed</th>\n",
              "      <th>Bank Balance</th>\n",
              "      <th>Annual Salary</th>\n",
              "      <th>Defaulted?</th>\n",
              "    </tr>\n",
              "  </thead>\n",
              "  <tbody>\n",
              "    <tr>\n",
              "      <th>0</th>\n",
              "      <td>1</td>\n",
              "      <td>1</td>\n",
              "      <td>8754.36</td>\n",
              "      <td>532339.56</td>\n",
              "      <td>0</td>\n",
              "    </tr>\n",
              "    <tr>\n",
              "      <th>1</th>\n",
              "      <td>2</td>\n",
              "      <td>0</td>\n",
              "      <td>9806.16</td>\n",
              "      <td>145273.56</td>\n",
              "      <td>0</td>\n",
              "    </tr>\n",
              "    <tr>\n",
              "      <th>2</th>\n",
              "      <td>3</td>\n",
              "      <td>1</td>\n",
              "      <td>12882.60</td>\n",
              "      <td>381205.68</td>\n",
              "      <td>0</td>\n",
              "    </tr>\n",
              "    <tr>\n",
              "      <th>3</th>\n",
              "      <td>4</td>\n",
              "      <td>1</td>\n",
              "      <td>6351.00</td>\n",
              "      <td>428453.88</td>\n",
              "      <td>0</td>\n",
              "    </tr>\n",
              "    <tr>\n",
              "      <th>4</th>\n",
              "      <td>5</td>\n",
              "      <td>1</td>\n",
              "      <td>9427.92</td>\n",
              "      <td>461562.00</td>\n",
              "      <td>0</td>\n",
              "    </tr>\n",
              "  </tbody>\n",
              "</table>\n",
              "</div>"
            ],
            "text/plain": [
              "   Index  Employed  Bank Balance  Annual Salary  Defaulted?\n",
              "0      1         1       8754.36      532339.56           0\n",
              "1      2         0       9806.16      145273.56           0\n",
              "2      3         1      12882.60      381205.68           0\n",
              "3      4         1       6351.00      428453.88           0\n",
              "4      5         1       9427.92      461562.00           0"
            ]
          },
          "metadata": {
            "tags": []
          }
        },
        {
          "output_type": "stream",
          "text": [
            "<class 'pandas.core.frame.DataFrame'>\n",
            "RangeIndex: 10000 entries, 0 to 9999\n",
            "Data columns (total 5 columns):\n",
            " #   Column         Non-Null Count  Dtype  \n",
            "---  ------         --------------  -----  \n",
            " 0   Index          10000 non-null  int64  \n",
            " 1   Employed       10000 non-null  int64  \n",
            " 2   Bank Balance   10000 non-null  float64\n",
            " 3   Annual Salary  10000 non-null  float64\n",
            " 4   Defaulted?     10000 non-null  int64  \n",
            "dtypes: float64(2), int64(3)\n",
            "memory usage: 390.8 KB\n",
            "      Employed  Bank Balance  Annual Salary  Defaulted?\n",
            "0            1       8754.36      532339.56           0\n",
            "1            0       9806.16      145273.56           0\n",
            "2            1      12882.60      381205.68           0\n",
            "3            1       6351.00      428453.88           0\n",
            "4            1       9427.92      461562.00           0\n",
            "...        ...           ...            ...         ...\n",
            "9995         1       8538.72      635908.56           0\n",
            "9996         1       9095.52      235928.64           0\n",
            "9997         1      10144.92      703633.92           0\n",
            "9998         1      18828.12      440029.32           0\n",
            "9999         0       2411.04      202355.40           0\n",
            "\n",
            "[10000 rows x 4 columns]\n",
            "Employed         0\n",
            "Bank Balance     0\n",
            "Annual Salary    0\n",
            "Defaulted?       0\n",
            "dtype: int64\n"
          ],
          "name": "stdout"
        },
        {
          "output_type": "execute_result",
          "data": {
            "text/html": [
              "<div>\n",
              "<style scoped>\n",
              "    .dataframe tbody tr th:only-of-type {\n",
              "        vertical-align: middle;\n",
              "    }\n",
              "\n",
              "    .dataframe tbody tr th {\n",
              "        vertical-align: top;\n",
              "    }\n",
              "\n",
              "    .dataframe thead th {\n",
              "        text-align: right;\n",
              "    }\n",
              "</style>\n",
              "<table border=\"1\" class=\"dataframe\">\n",
              "  <thead>\n",
              "    <tr style=\"text-align: right;\">\n",
              "      <th></th>\n",
              "      <th>Index</th>\n",
              "      <th>Employed</th>\n",
              "      <th>Bank Balance</th>\n",
              "      <th>Annual Salary</th>\n",
              "      <th>Defaulted?</th>\n",
              "    </tr>\n",
              "  </thead>\n",
              "  <tbody>\n",
              "    <tr>\n",
              "      <th>count</th>\n",
              "      <td>10000.00000</td>\n",
              "      <td>10000.000000</td>\n",
              "      <td>10000.000000</td>\n",
              "      <td>10000.000000</td>\n",
              "      <td>10000.000000</td>\n",
              "    </tr>\n",
              "    <tr>\n",
              "      <th>mean</th>\n",
              "      <td>5000.50000</td>\n",
              "      <td>0.705600</td>\n",
              "      <td>10024.498524</td>\n",
              "      <td>402203.782224</td>\n",
              "      <td>0.033300</td>\n",
              "    </tr>\n",
              "    <tr>\n",
              "      <th>std</th>\n",
              "      <td>2886.89568</td>\n",
              "      <td>0.455795</td>\n",
              "      <td>5804.579486</td>\n",
              "      <td>160039.674988</td>\n",
              "      <td>0.179428</td>\n",
              "    </tr>\n",
              "    <tr>\n",
              "      <th>min</th>\n",
              "      <td>1.00000</td>\n",
              "      <td>0.000000</td>\n",
              "      <td>0.000000</td>\n",
              "      <td>9263.640000</td>\n",
              "      <td>0.000000</td>\n",
              "    </tr>\n",
              "    <tr>\n",
              "      <th>25%</th>\n",
              "      <td>2500.75000</td>\n",
              "      <td>0.000000</td>\n",
              "      <td>5780.790000</td>\n",
              "      <td>256085.520000</td>\n",
              "      <td>0.000000</td>\n",
              "    </tr>\n",
              "    <tr>\n",
              "      <th>50%</th>\n",
              "      <td>5000.50000</td>\n",
              "      <td>1.000000</td>\n",
              "      <td>9883.620000</td>\n",
              "      <td>414631.740000</td>\n",
              "      <td>0.000000</td>\n",
              "    </tr>\n",
              "    <tr>\n",
              "      <th>75%</th>\n",
              "      <td>7500.25000</td>\n",
              "      <td>1.000000</td>\n",
              "      <td>13995.660000</td>\n",
              "      <td>525692.760000</td>\n",
              "      <td>0.000000</td>\n",
              "    </tr>\n",
              "    <tr>\n",
              "      <th>max</th>\n",
              "      <td>10000.00000</td>\n",
              "      <td>1.000000</td>\n",
              "      <td>31851.840000</td>\n",
              "      <td>882650.760000</td>\n",
              "      <td>1.000000</td>\n",
              "    </tr>\n",
              "  </tbody>\n",
              "</table>\n",
              "</div>"
            ],
            "text/plain": [
              "             Index      Employed  Bank Balance  Annual Salary    Defaulted?\n",
              "count  10000.00000  10000.000000  10000.000000   10000.000000  10000.000000\n",
              "mean    5000.50000      0.705600  10024.498524  402203.782224      0.033300\n",
              "std     2886.89568      0.455795   5804.579486  160039.674988      0.179428\n",
              "min        1.00000      0.000000      0.000000    9263.640000      0.000000\n",
              "25%     2500.75000      0.000000   5780.790000  256085.520000      0.000000\n",
              "50%     5000.50000      1.000000   9883.620000  414631.740000      0.000000\n",
              "75%     7500.25000      1.000000  13995.660000  525692.760000      0.000000\n",
              "max    10000.00000      1.000000  31851.840000  882650.760000      1.000000"
            ]
          },
          "metadata": {
            "tags": []
          },
          "execution_count": 1
        }
      ]
    },
    {
      "cell_type": "markdown",
      "metadata": {
        "id": "CQ_2s5DhHNc_"
      },
      "source": [
        "Distribution of Target Variable"
      ]
    },
    {
      "cell_type": "code",
      "metadata": {
        "colab": {
          "base_uri": "https://localhost:8080/",
          "height": 297
        },
        "id": "2GpXX6ZhHZan",
        "outputId": "997c8560-9054-4ceb-c44b-c467050c27f6"
      },
      "source": [
        "sns.countplot(x='Defaulted?', data=data_updated)"
      ],
      "execution_count": 2,
      "outputs": [
        {
          "output_type": "execute_result",
          "data": {
            "text/plain": [
              "<matplotlib.axes._subplots.AxesSubplot at 0x7f6284773bd0>"
            ]
          },
          "metadata": {
            "tags": []
          },
          "execution_count": 2
        },
        {
          "output_type": "display_data",
          "data": {
            "image/png": "[encoded data removed]",
            "text/plain": [
              "<Figure size 432x288 with 1 Axes>"
            ]
          },
          "metadata": {
            "tags": [],
            "needs_background": "light"
          }
        }
      ]
    },
    {
      "cell_type": "code",
      "metadata": {
        "colab": {
          "base_uri": "https://localhost:8080/",
          "height": 296
        },
        "id": "S_MG-o4H1QxE",
        "outputId": "705fe767-14b8-4240-f6e4-486673225272"
      },
      "source": [
        "# graph showing employees\n",
        "\n",
        "sns.countplot(x='Employed', data=data_updated)"
      ],
      "execution_count": 3,
      "outputs": [
        {
          "output_type": "execute_result",
          "data": {
            "text/plain": [
              "<matplotlib.axes._subplots.AxesSubplot at 0x7f62832d8ed0>"
            ]
          },
          "metadata": {
            "tags": []
          },
          "execution_count": 3
        },
        {
          "output_type": "display_data",
          "data": {
            "image/png": "[encoded data removed]",
            "text/plain": [
              "<Figure size 432x288 with 1 Axes>"
            ]
          },
          "metadata": {
            "tags": [],
            "needs_background": "light"
          }
        }
      ]
    },
    {
      "cell_type": "markdown",
      "metadata": {
        "id": "4AmsWyt-II2u"
      },
      "source": [
        "Split the data into training and testing and create dummy variables\n",
        "\n",
        "\n"
      ]
    },
    {
      "cell_type": "code",
      "metadata": {
        "colab": {
          "base_uri": "https://localhost:8080/"
        },
        "id": "lcLE3-quHuXi",
        "outputId": "54c0cdc4-552e-49e1-d2fb-edeb8a760cf8"
      },
      "source": [
        "# Converting all categorical variables into dummy variables\n",
        "\n",
        "\n",
        "X = data_updated.iloc[:, 0:3]\n",
        "y = data_updated.iloc[:, 3]\n",
        "print(X)\n",
        "print(y)\n",
        "\n",
        "print(data_updated.shape)\n",
        "print(y.shape)\n",
        "print(X.shape)\n",
        "\n",
        "# separate the data into training and testing sets\n",
        "X_train, X_test, y_train, y_test = train_test_split(X, y, test_size=0.3, stratify=y, random_state=42)\n",
        "\n"
      ],
      "execution_count": 4,
      "outputs": [
        {
          "output_type": "stream",
          "text": [
            "      Employed  Bank Balance  Annual Salary\n",
            "0            1       8754.36      532339.56\n",
            "1            0       9806.16      145273.56\n",
            "2            1      12882.60      381205.68\n",
            "3            1       6351.00      428453.88\n",
            "4            1       9427.92      461562.00\n",
            "...        ...           ...            ...\n",
            "9995         1       8538.72      635908.56\n",
            "9996         1       9095.52      235928.64\n",
            "9997         1      10144.92      703633.92\n",
            "9998         1      18828.12      440029.32\n",
            "9999         0       2411.04      202355.40\n",
            "\n",
            "[10000 rows x 3 columns]\n",
            "0       0\n",
            "1       0\n",
            "2       0\n",
            "3       0\n",
            "4       0\n",
            "       ..\n",
            "9995    0\n",
            "9996    0\n",
            "9997    0\n",
            "9998    0\n",
            "9999    0\n",
            "Name: Defaulted?, Length: 10000, dtype: int64\n",
            "(10000, 4)\n",
            "(10000,)\n",
            "(10000, 3)\n"
          ],
          "name": "stdout"
        }
      ]
    },
    {
      "cell_type": "markdown",
      "metadata": {
        "id": "E9LcBlfXKLur"
      },
      "source": [
        "Classification Model"
      ]
    },
    {
      "cell_type": "code",
      "metadata": {
        "colab": {
          "base_uri": "https://localhost:8080/",
          "height": 398
        },
        "id": "H2BAFgsrKOUn",
        "outputId": "3d1762e5-49e8-44d1-ce67-853065d022d0"
      },
      "source": [
        "# Fit the training data to a classification tree\n",
        "DT = DecisionTreeClassifier(max_depth=6, criterion='entropy', random_state=2020)\n",
        "DT.fit(X_train, y_train)\n",
        "\n",
        "# visulaize the confusion matrix\n",
        "\n",
        "y_pred = DT.predict(X_test)\n",
        "\n",
        "matrix = metrics.confusion_matrix(y_test, y_pred)\n",
        "print(matrix)\n",
        "metrics.plot_confusion_matrix(DT, X_test, y_test)\n",
        "plt.show()\n",
        "\n",
        "# Print the accuracy on the training partition\n",
        "training_predict = DT.predict(X_train)\n",
        "print(metrics.accuracy_score(training_predict, y_train))\n",
        "\n",
        "# predicr rhe accuracy on the test partition\n",
        "print(metrics.accuracy_score(y_pred, y_test))\n",
        "\n",
        "# display the classification tree\n",
        "#plt.figure(figsize=(12,12))\n",
        "#fn = X.columns\n",
        "#cn = y.unique()\n",
        "#survivalTree = tree.plot_tree(DT, feature_names=fn, class_names=cn, filled=True)\n",
        "#plt.show()\n",
        "\n",
        "# Display the most important feeature in determining survival\n",
        "print('feature importance:', DT.feature_importances_)\n",
        "importance = pd.DataFrame(zip(X_train.columns, DT.feature_importances_))\n",
        "print(importance.nlargest(1, columns=[1]))"
      ],
      "execution_count": 5,
      "outputs": [
        {
          "output_type": "stream",
          "text": [
            "[[2856   44]\n",
            " [  56   44]]\n"
          ],
          "name": "stdout"
        },
        {
          "output_type": "display_data",
          "data": {
            "image/png": "[encoded data removed]",
            "text/plain": [
              "<Figure size 432x288 with 2 Axes>"
            ]
          },
          "metadata": {
            "tags": [],
            "needs_background": "light"
          }
        },
        {
          "output_type": "stream",
          "text": [
            "0.9782857142857143\n",
            "0.9666666666666667\n",
            "feature importance: [0.         0.94555436 0.05444564]\n",
            "              0         1\n",
            "1  Bank Balance  0.945554\n"
          ],
          "name": "stdout"
        }
      ]
    },
    {
      "cell_type": "markdown",
      "metadata": {
        "id": "6_jV_o8B45R2"
      },
      "source": [
        "Baseline Classification "
      ]
    },
    {
      "cell_type": "code",
      "metadata": {
        "colab": {
          "base_uri": "https://localhost:8080/"
        },
        "id": "PicJ0zUplAY7",
        "outputId": "1242c223-fb18-4342-e22c-bee7a08b6e96"
      },
      "source": [
        "from sklearn.dummy import DummyClassifier\n",
        "\n",
        "dummy_classifier = DummyClassifier(strategy='most_frequent')\n",
        "dummy_classifier.fit(X_train, y_train)\n",
        "baseline_accuracy = dummy_classifier.score(X_test, y_test)\n",
        "print(baseline_accuracy)"
      ],
      "execution_count": 6,
      "outputs": [
        {
          "output_type": "stream",
          "text": [
            "0.9666666666666667\n"
          ],
          "name": "stdout"
        }
      ]
    },
    {
      "cell_type": "markdown",
      "metadata": {
        "id": "iSqnqTd5P0uA"
      },
      "source": [
        "Bagging Model"
      ]
    },
    {
      "cell_type": "code",
      "metadata": {
        "id": "zKVMZXKBP0Xl",
        "colab": {
          "base_uri": "https://localhost:8080/"
        },
        "outputId": "fd84cdd5-3a14-457f-a188-be1f904add60"
      },
      "source": [
        "from sklearn.ensemble import BaggingClassifier\n",
        "from sklearn.metrics import accuracy_score\n",
        "\n",
        "bagging = DecisionTreeClassifier(random_state = 42)\n",
        "bagging.fit(X_train, y_train)\n",
        "pred_bagging = bagging.predict(X_test)\n",
        "acc_bagging = accuracy_score(y_test, pred_bagging)\n",
        "\n",
        "print('Accuracy score = ', acc_bagging)"
      ],
      "execution_count": 7,
      "outputs": [
        {
          "output_type": "stream",
          "text": [
            "Accuracy score =  0.9623333333333334\n"
          ],
          "name": "stdout"
        }
      ]
    },
    {
      "cell_type": "markdown",
      "metadata": {
        "id": "vcnC6XZfCIuq"
      },
      "source": [
        "Bagging Model with Base Estimator = DecisionTreeClassifier to improve accuracy score"
      ]
    },
    {
      "cell_type": "code",
      "metadata": {
        "colab": {
          "base_uri": "https://localhost:8080/"
        },
        "id": "rS9uUI98CJVC",
        "outputId": "4adc9c14-cc56-4e6c-9a44-3a0cea4908c5"
      },
      "source": [
        "from sklearn.tree import DecisionTreeClassifier\n",
        "base_est = DecisionTreeClassifier(max_depth=4)\n",
        "m_bagging = BaggingClassifier(base_est, random_state=42, n_estimators=10)\n",
        "m_bagging.fit(X_train, y_train)\n",
        "p_bagging = m_bagging.predict(X_test)\n",
        "accuracy_bagging = accuracy_score(y_test, p_bagging)\n",
        "print(accuracy_bagging)"
      ],
      "execution_count": 8,
      "outputs": [
        {
          "output_type": "stream",
          "text": [
            "0.971\n"
          ],
          "name": "stdout"
        }
      ]
    },
    {
      "cell_type": "markdown",
      "metadata": {
        "id": "DT1YaO-6zfwe"
      },
      "source": [
        "Random Forest Model"
      ]
    },
    {
      "cell_type": "code",
      "metadata": {
        "colab": {
          "base_uri": "https://localhost:8080/"
        },
        "id": "IljWNYSEbCAJ",
        "outputId": "fa13d362-5b30-4b1d-beb0-bc711488b546"
      },
      "source": [
        "from sklearn.ensemble import RandomForestClassifier\n",
        "from sklearn.metrics import (classification_report, recall_score, precision_score, accuracy_score)\n",
        "from sklearn.model_selection import RandomizedSearchCV\n",
        "from sklearn.ensemble import RandomForestRegressor\n",
        "\n",
        "forest_model = RandomForestClassifier(n_estimators=100, max_features=3, random_state=42)\n",
        "forest_model.fit(X_train, y_train)\n",
        "randomForestPredict = forest_model.predict(X_test)\n",
        "randomForestRecall = recall_score(y_test, randomForestPredict)\n",
        "randomForestPrecision = precision_score(y_test, randomForestPredict)\n",
        "randomForestAccuracy = accuracy_score(y_test, randomForestPredict)\n",
        "print('Accuracy Score:' ,randomForestAccuracy)\n",
        "\n",
        "# calculate the top feature\n",
        "print('feature importance:', forest_model.feature_importances_)\n",
        "importance = pd.DataFrame(zip(X_train.columns, DT.feature_importances_))\n",
        "print(importance.nlargest(1, columns=[1]))\n"
      ],
      "execution_count": 9,
      "outputs": [
        {
          "output_type": "stream",
          "text": [
            "Accuracy Score: 0.9676666666666667\n",
            "feature importance: [0.0141524  0.67633656 0.30951103]\n",
            "              0         1\n",
            "1  Bank Balance  0.945554\n"
          ],
          "name": "stdout"
        }
      ]
    },
    {
      "cell_type": "markdown",
      "metadata": {
        "id": "RlatJqMv18Ka"
      },
      "source": [
        "Boosting Model"
      ]
    },
    {
      "cell_type": "code",
      "metadata": {
        "colab": {
          "base_uri": "https://localhost:8080/",
          "height": 97
        },
        "id": "0wBj7tz918hF",
        "outputId": "eb3c6a8d-cb81-4904-9ac7-7781a739b316"
      },
      "source": [
        "from sklearn.ensemble import AdaBoostClassifier\n",
        "from sklearn.tree import DecisionTreeClassifier\n",
        "\n",
        "base_est = DecisionTreeClassifier(max_depth = 4)\n",
        "ada_boost = AdaBoostClassifier(base_est, n_estimators = 200, random_state = 42, learning_rate = 0.05)\n",
        "ada_boost.fit(X_train, y_train)\n",
        "predict_ada = ada_boost.predict(X_test)\n",
        "res1 = round(recall_score(y_test, predict_ada), 4)\n",
        "accuracy_ada = accuracy_score(y_test, predict_ada)\n",
        "print(accuracy_ada)\n",
        "\n",
        "# Most important feature\n",
        "feature = ada_boost.feature_importances_\n",
        "list_features = X_train.columns\n",
        "frame = pd.DataFrame({'Features': list_features, 'importance': feature})\n",
        "frame.nlargest(1, columns='importance')"
      ],
      "execution_count": 10,
      "outputs": [
        {
          "output_type": "stream",
          "text": [
            "0.9656666666666667\n"
          ],
          "name": "stdout"
        },
        {
          "output_type": "execute_result",
          "data": {
            "text/html": [
              "<div>\n",
              "<style scoped>\n",
              "    .dataframe tbody tr th:only-of-type {\n",
              "        vertical-align: middle;\n",
              "    }\n",
              "\n",
              "    .dataframe tbody tr th {\n",
              "        vertical-align: top;\n",
              "    }\n",
              "\n",
              "    .dataframe thead th {\n",
              "        text-align: right;\n",
              "    }\n",
              "</style>\n",
              "<table border=\"1\" class=\"dataframe\">\n",
              "  <thead>\n",
              "    <tr style=\"text-align: right;\">\n",
              "      <th></th>\n",
              "      <th>Features</th>\n",
              "      <th>importance</th>\n",
              "    </tr>\n",
              "  </thead>\n",
              "  <tbody>\n",
              "    <tr>\n",
              "      <th>1</th>\n",
              "      <td>Bank Balance</td>\n",
              "      <td>0.511875</td>\n",
              "    </tr>\n",
              "  </tbody>\n",
              "</table>\n",
              "</div>"
            ],
            "text/plain": [
              "       Features  importance\n",
              "1  Bank Balance    0.511875"
            ]
          },
          "metadata": {
            "tags": []
          },
          "execution_count": 10
        }
      ]
    },
    {
      "cell_type": "markdown",
      "metadata": {
        "id": "Mp8QSzQz4g__"
      },
      "source": [
        "Voting Classifier Model with RFC, DTC, SVM, and LR"
      ]
    },
    {
      "cell_type": "code",
      "metadata": {
        "colab": {
          "base_uri": "https://localhost:8080/"
        },
        "id": "ML4Ac6Km4hLI",
        "outputId": "4f95a99d-11f2-4cf2-e818-a85e2a64db34"
      },
      "source": [
        "from sklearn.ensemble import RandomForestClassifier, VotingClassifier\n",
        "from sklearn.tree import DecisionTreeClassifier\n",
        "from sklearn.svm import SVC\n",
        "from sklearn.linear_model import LogisticRegression\n",
        "\n",
        "rf_classifier = RandomForestClassifier(n_estimators=200, random_state=0)\n",
        "Dtree_classifier = DecisionTreeClassifier(max_depth=4)\n",
        "svm_classifier = SVC(probability = True, random_state=0)\n",
        "log_classifier = LogisticRegression(random_state=0)\n",
        "\n",
        "classifier = VotingClassifier(estimators=[('rf', rf_classifier), ('Dt', Dtree_classifier), ('svm', svm_classifier), ('log', log_classifier)], voting = 'soft')\n",
        "\n",
        "classifier.fit(X_train, y_train)\n",
        "classifier_predict = classifier.predict(X_test)\n",
        "recall_voting = recall_score(y_test, classifier_predict)\n",
        "precision_voting = precision_score(y_test, classifier_predict)\n",
        "accuracy = accuracy_score(y_test, classifier_predict)\n",
        "print(accuracy)"
      ],
      "execution_count": 11,
      "outputs": [
        {
          "output_type": "stream",
          "text": [
            "0.9683333333333334\n"
          ],
          "name": "stdout"
        }
      ]
    },
    {
      "cell_type": "markdown",
      "metadata": {
        "id": "H_0SD4GNRZ_d"
      },
      "source": [
        "XGBoost"
      ]
    },
    {
      "cell_type": "code",
      "metadata": {
        "colab": {
          "base_uri": "https://localhost:8080/"
        },
        "id": "-tOvRmc6RcXZ",
        "outputId": "88e49512-f236-4f6f-908f-db2b4dd77e97"
      },
      "source": [
        "import xgboost as xgb\n",
        "from sklearn.metrics import mean_squared_error\n",
        "\n",
        "data_dmatrix = xgb.DMatrix(data=X, label=y)\n",
        "\n",
        "X_train, X_test, y_train, y_test = train_test_split(X, y, test_size = 0.2, random_state=123)\n",
        "\n",
        "regression_xg = xgb.XGBRegressor(objective='reg:linear', colsample_bytree=0.3, learning_rate=0.1, max_depth=5, alpha=10, n_estimators=100)\n",
        "\n",
        "regression_xg.fit(X_train, y_train)\n",
        "predict_xg = regression_xg.predict(X_test)\n",
        "\n",
        "rmse = np.sqrt(mean_squared_error(y_test, predict_xg))\n",
        "print('RMSE:', rmse)\n",
        "\n",
        "from sklearn.linear_model import LinearRegression\n",
        "\n",
        "linearRegModel = LinearRegression()\n",
        "linearRegModel.fit(X_train, y_train)\n",
        "\n",
        "predict_train = linearRegModel.predict(X_train)\n",
        "rmseTrain = np.sqrt(mean_squared_error(y_train, predict_train))\n",
        "print(\"Train RMSE: \", (rmseTrain))\n",
        "\n",
        "predict_test = linearRegModel.predict(X_test)\n",
        "rmseTest = np.sqrt(mean_squared_error(y_test, predict_test))\n",
        "print(\"Test RMSE: \", (rmseTest))\n"
      ],
      "execution_count": 12,
      "outputs": [
        {
          "output_type": "stream",
          "text": [
            "[00:20:54] WARNING: /workspace/src/objective/regression_obj.cu:152: reg:linear is now deprecated in favor of reg:squarederror.\n",
            "RMSE: 0.1426529945867478\n",
            "Train RMSE:  0.16885927903375653\n",
            "Test RMSE:  0.16415800342353137\n"
          ],
          "name": "stdout"
        }
      ]
    },
    {
      "cell_type": "markdown",
      "metadata": {
        "id": "xsDouBXIOBJh"
      },
      "source": [
        "Cross Validation using XGBoost"
      ]
    },
    {
      "cell_type": "code",
      "metadata": {
        "colab": {
          "base_uri": "https://localhost:8080/"
        },
        "id": "zCm5GBvtOFAY",
        "outputId": "a6b02a64-c8e0-4e35-b83c-eea830095644"
      },
      "source": [
        "paramters = {\"objective\":\"reg:linear\", 'colsample_bytree':0.3, 'learning_rate': 0.1, 'max_depth': 5, 'alpha': 10}\n",
        "cv = xgb.cv(dtrain=data_dmatrix, params=paramters, nfold=3, num_boost_round=50, early_stopping_rounds=10, metrics=\"rmse\", as_pandas=True, seed=123)\n",
        "print(cv)\n",
        "\n",
        "print((cv[\"test-rmse-mean\"]).tail(1))"
      ],
      "execution_count": 13,
      "outputs": [
        {
          "output_type": "stream",
          "text": [
            "[00:20:54] WARNING: /workspace/src/objective/regression_obj.cu:152: reg:linear is now deprecated in favor of reg:squarederror.\n",
            "[00:20:55] WARNING: /workspace/src/objective/regression_obj.cu:152: reg:linear is now deprecated in favor of reg:squarederror.\n",
            "[00:20:55] WARNING: /workspace/src/objective/regression_obj.cu:152: reg:linear is now deprecated in favor of reg:squarederror.\n",
            "    train-rmse-mean  train-rmse-std  test-rmse-mean  test-rmse-std\n",
            "0          0.456889        0.000139        0.456892       0.000091\n",
            "1          0.418714        0.000296        0.418718       0.000191\n",
            "2          0.385015        0.000433        0.385006       0.000318\n",
            "3          0.354490        0.000931        0.354557       0.001496\n",
            "4          0.328440        0.000979        0.328511       0.001722\n",
            "5          0.303904        0.002224        0.303979       0.002376\n",
            "6          0.282423        0.003506        0.282544       0.003323\n",
            "7          0.264475        0.004271        0.264628       0.004360\n",
            "8          0.249534        0.004530        0.249694       0.004664\n",
            "9          0.234003        0.003979        0.234247       0.004256\n",
            "10         0.222399        0.004699        0.222714       0.005217\n",
            "11         0.213006        0.004911        0.213333       0.005506\n",
            "12         0.204275        0.005532        0.204595       0.005531\n",
            "13         0.195848        0.004440        0.196295       0.005283\n",
            "14         0.190201        0.004572        0.190668       0.005500\n",
            "15         0.184427        0.003220        0.184992       0.004984\n",
            "16         0.179331        0.004046        0.179922       0.005237\n",
            "17         0.174739        0.003240        0.175451       0.005370\n",
            "18         0.171190        0.002190        0.171996       0.005217\n",
            "19         0.168325        0.002448        0.169128       0.004700\n",
            "20         0.166148        0.002779        0.166945       0.005282\n",
            "21         0.164064        0.003132        0.164876       0.004887\n",
            "22         0.162366        0.003532        0.163192       0.004630\n",
            "23         0.160233        0.003025        0.161132       0.003965\n",
            "24         0.159073        0.003420        0.159974       0.003791\n",
            "25         0.157468        0.003068        0.158453       0.003247\n",
            "26         0.156910        0.003077        0.157906       0.003299\n",
            "27         0.156214        0.003399        0.157223       0.003167\n",
            "28         0.155845        0.003405        0.156854       0.003201\n",
            "29         0.155246        0.003365        0.156263       0.003642\n",
            "30         0.154995        0.003375        0.156019       0.003667\n",
            "31         0.154228        0.002740        0.155298       0.003388\n",
            "32         0.153643        0.002332        0.154785       0.003289\n",
            "33         0.153265        0.002234        0.154410       0.003634\n",
            "34         0.153154        0.002239        0.154303       0.003650\n",
            "35         0.152716        0.001913        0.153895       0.003604\n",
            "36         0.152435        0.001820        0.153616       0.003878\n",
            "37         0.152004        0.002043        0.153196       0.003913\n",
            "38         0.151953        0.002045        0.153151       0.003922\n",
            "39         0.151913        0.002047        0.153110       0.003932\n",
            "40         0.151877        0.002049        0.153077       0.003941\n",
            "41         0.151500        0.002235        0.152751       0.003965\n",
            "42         0.151117        0.001851        0.152413       0.003894\n",
            "43         0.150846        0.001619        0.152172       0.003878\n",
            "44         0.150668        0.001849        0.151990       0.003683\n",
            "45         0.150652        0.001850        0.151980       0.003691\n",
            "46         0.150391        0.001955        0.151731       0.003729\n",
            "47         0.150122        0.002063        0.151500       0.003704\n",
            "48         0.150112        0.002068        0.151497       0.003709\n",
            "49         0.150102        0.002070        0.151493       0.003714\n",
            "49    0.151493\n",
            "Name: test-rmse-mean, dtype: float64\n"
          ],
          "name": "stdout"
        }
      ]
    },
    {
      "cell_type": "markdown",
      "metadata": {
        "id": "P6I7kuVUQJ1n"
      },
      "source": [
        "Visualization of feature importance "
      ]
    },
    {
      "cell_type": "code",
      "metadata": {
        "colab": {
          "base_uri": "https://localhost:8080/",
          "height": 312
        },
        "id": "iyENQdIdQJkP",
        "outputId": "5d8b72c0-3d9b-4557-cda1-135b6cf99e8e"
      },
      "source": [
        "xgRegression = xgb.train(params=paramters, dtrain=data_dmatrix, num_boost_round=10)\n",
        "\n",
        "import matplotlib.pyplot as plt\n",
        "\n",
        "xgb.plot_importance(regression_xg)\n",
        "plt.rcParams['figure.figsize'] = [50,10]\n",
        "plt.show()\n"
      ],
      "execution_count": 14,
      "outputs": [
        {
          "output_type": "stream",
          "text": [
            "[00:20:55] WARNING: /workspace/src/objective/regression_obj.cu:152: reg:linear is now deprecated in favor of reg:squarederror.\n"
          ],
          "name": "stdout"
        },
        {
          "output_type": "display_data",
          "data": {
            "image/png": "[encoded data removed]",
            "text/plain": [
              "<Figure size 432x288 with 1 Axes>"
            ]
          },
          "metadata": {
            "tags": [],
            "needs_background": "light"
          }
        }
      ]
    },
    {
      "cell_type": "markdown",
      "metadata": {
        "id": "IqtJAplkqQnM"
      },
      "source": [
        "The best model was the Boostrap Aggregation Model with the Decision Tree Classifier as the base estimator. It was the best model becasue it had the best performance shown by it's high accuracy score"
      ]
    },
    {
      "cell_type": "code",
      "metadata": {
        "colab": {
          "base_uri": "https://localhost:8080/",
          "height": 638
        },
        "id": "nb6Yp5FjjEuL",
        "outputId": "b2fa34ee-4be2-422c-b24b-aa4b2cd8e2f3"
      },
      "source": [
        "# plot all the accuracy scores\n",
        "x=['Decision Tree', 'Baseline', 'Bagging - BaggingClassifier', 'Bagging - DecisionTreeClassifier', 'Random Forest', 'AdaBoost', 'Voting']\n",
        "y = [0.967, 0.967, 0.962, 0.975, 0.974, 0.966, 0.968]\n",
        "\n",
        "myFig = plt.figure(figsize = (22,10))\n",
        "ax1 = myFig.add_subplot(1,1,1)\n",
        "ax1.scatter(x, y, color='b' )\n",
        "\n",
        "ax1.set_xlabel(\"Model\")\n",
        "ax1.set_ylabel('Accuracy Score')\n",
        "ax1.set_title(\"Accuracy Score of Each Model\")"
      ],
      "execution_count": 45,
      "outputs": [
        {
          "output_type": "execute_result",
          "data": {
            "text/plain": [
              "Text(0.5, 1.0, 'Accuracy Score of Each Model')"
            ]
          },
          "metadata": {
            "tags": []
          },
          "execution_count": 45
        },
        {
          "output_type": "display_data",
          "data": {
            "image/png": "[encoded data removed]",
            "text/plain": [
              "<Figure size 1584x720 with 1 Axes>"
            ]
          },
          "metadata": {
            "tags": [],
            "needs_background": "light"
          }
        }
      ]
    },
    {
      "cell_type": "markdown",
      "metadata": {
        "id": "a3GdWqq1WM0V"
      },
      "source": [
        "Adjusting parameters of the best model \n",
        "\n",
        "```\n",
        "# This is formatted as code\n",
        "```\n",
        "\n"
      ]
    },
    {
      "cell_type": "code",
      "metadata": {
        "colab": {
          "base_uri": "https://localhost:8080/"
        },
        "id": "HpY7Dv9gWRUe",
        "outputId": "c79f4c7e-96d7-4cb9-da42-aab1f51251a0"
      },
      "source": [
        "from sklearn.tree import DecisionTreeClassifier\n",
        "\n",
        "# pruning hurts the accuracy score\n",
        "\n",
        "base_est = DecisionTreeClassifier(max_depth=4)\n",
        "m_bagging = BaggingClassifier(base_est, random_state=42, n_estimators=10)\n",
        "m_bagging.fit(X_train, y_train)\n",
        "p_bagging = m_bagging.predict(X_test)\n",
        "accuracy_bagging = accuracy_score(y_test, p_bagging)\n",
        "print(accuracy_bagging)\n",
        "\n",
        "# Making max_depth higher decreases the accuracy score\n",
        "\n",
        "base_est = DecisionTreeClassifier(max_depth=15)\n",
        "m_bagging = BaggingClassifier(base_est, random_state=42, n_estimators=10)\n",
        "m_bagging.fit(X_train, y_train)\n",
        "p_bagging = m_bagging.predict(X_test)\n",
        "accuracy_bagging = accuracy_score(y_test, p_bagging)\n",
        "print(accuracy_bagging)\n",
        "\n",
        "# adjust random_state also decreases the score\n",
        "\n",
        "base_est = DecisionTreeClassifier(max_depth=6)\n",
        "m_bagging = BaggingClassifier(base_est, random_state=60, n_estimators=20)\n",
        "m_bagging.fit(X_train, y_train)\n",
        "p_bagging = m_bagging.predict(X_test)\n",
        "accuracy_bagging = accuracy_score(y_test, p_bagging)\n",
        "print(accuracy_bagging)\n"
      ],
      "execution_count": 33,
      "outputs": [
        {
          "output_type": "stream",
          "text": [
            "0.9745\n",
            "0.969\n",
            "0.973\n"
          ],
          "name": "stdout"
        }
      ]
    }
  ]
}